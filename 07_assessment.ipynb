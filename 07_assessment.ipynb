{
 "cells": [
  {
   "cell_type": "markdown",
   "metadata": {},
   "source": [
    "<center><a href=\"https://www.nvidia.com/dli\"> <img src=\"images/DLI_Header.png\" alt=\"Header\" style=\"width: 400px;\"/> </a></center>"
   ]
  },
  {
   "cell_type": "markdown",
   "metadata": {},
   "source": [
    "# Assessment"
   ]
  },
  {
   "cell_type": "markdown",
   "metadata": {},
   "source": [
    "Congratulations on going through today's course! Hopefully, you've learned some valuable skills along the way and had fun doing it. Now it's time to put those skills to the test. In this assessment, you will train a new model that is able to recognize fresh and rotten fruit. You will need to get the model to a validation accuracy of `92%` in order to pass the assessment, though we challenge you to do even better if you can. You will have the use the skills that you learned in the previous exercises. Specifically, we suggest using some combination of transfer learning, data augmentation, and fine tuning. Once you have trained the model to be at least 92% accurate on the validation dataset, save your model, and then assess its accuracy. Let's get started! "
   ]
  },
  {
   "cell_type": "markdown",
   "metadata": {},
   "source": [
    "## The Dataset"
   ]
  },
  {
   "cell_type": "markdown",
   "metadata": {},
   "source": [
    "In this exercise, you will train a model to recognize fresh and rotten fruits. The dataset comes from [Kaggle](https://www.kaggle.com/sriramr/fruits-fresh-and-rotten-for-classification), a great place to go if you're interested in starting a project after this class. The dataset structure is in the `data/fruits` folder. There are 6 categories of fruits: fresh apples, fresh oranges, fresh bananas, rotten apples, rotten oranges, and rotten bananas. This will mean that your model will require an output layer of 6 neurons to do the categorization successfully. You'll also need to compile the model with `categorical_crossentropy`, as we have more than two categories."
   ]
  },
  {
   "cell_type": "markdown",
   "metadata": {},
   "source": [
    "<img src=\"./images/fruits.png\" style=\"width: 600px;\">"
   ]
  },
  {
   "cell_type": "markdown",
   "metadata": {},
   "source": [
    "## Load ImageNet Base Model"
   ]
  },
  {
   "cell_type": "markdown",
   "metadata": {},
   "source": [
    "We encourage you to start with a model pretrained on ImageNet. Load the model with the correct weights, set an input shape, and choose to remove the last layers of the model. Remember that images have three dimensions: a height, and width, and a number of channels. Because these pictures are in color, there will be three channels for red, green, and blue. We've filled in the input shape for you. This cannot be changed or the assessment will fail. If you need a reference for setting up the pretrained model, please take a look at [notebook 05b](05b_presidential_doggy_door.ipynb) where we implemented transfer learning."
   ]
  },
  {
   "cell_type": "code",
   "execution_count": 2,
   "metadata": {},
   "outputs": [],
   "source": [
    "from tensorflow import keras\n",
    "\n",
    "base_model = keras.applications.VGG16(\n",
    "    weights='imagenet',\n",
    "    input_shape=(224, 224, 3),\n",
    "    include_top=False)"
   ]
  },
  {
   "cell_type": "markdown",
   "metadata": {},
   "source": [
    "## Freeze Base Model"
   ]
  },
  {
   "cell_type": "markdown",
   "metadata": {},
   "source": [
    "Next, we suggest freezing the base model, as done in [notebook 05b](05b_presidential_doggy_door.ipynb). This is done so that all the learning from the ImageNet dataset does not get destroyed in the initial training."
   ]
  },
  {
   "cell_type": "code",
   "execution_count": 3,
   "metadata": {},
   "outputs": [],
   "source": [
    "# Freeze base model\n",
    "base_model.trainable = False"
   ]
  },
  {
   "cell_type": "markdown",
   "metadata": {},
   "source": [
    "## Add Layers to Model"
   ]
  },
  {
   "cell_type": "markdown",
   "metadata": {},
   "source": [
    "Now it's time to add layers to the pretrained model. [Notebook 05b](05b_presidential_doggy_door.ipynb) can be used as a guide. Pay close attention to the last dense layer and make sure it has the correct number of neurons to classify the different types of fruit."
   ]
  },
  {
   "cell_type": "code",
   "execution_count": 4,
   "metadata": {},
   "outputs": [],
   "source": [
    "# Create inputs with correct shape\n",
    "inputs = keras.Input(shape=(224, 224, 3))\n",
    "\n",
    "x = base_model(inputs, training=False)\n",
    "\n",
    "# Add pooling layer or flatten layer\n",
    "x = keras.layers.GlobalAveragePooling2D()(x)\n",
    "\n",
    "# Add final dense layer\n",
    "outputs = keras.layers.Dense(6, activation = 'softmax')(x)\n",
    "\n",
    "# Combine inputs and outputs to create model\n",
    "model = keras.Model(inputs, outputs)"
   ]
  },
  {
   "cell_type": "code",
   "execution_count": 5,
   "metadata": {},
   "outputs": [
    {
     "name": "stdout",
     "output_type": "stream",
     "text": [
      "Model: \"model\"\n",
      "_________________________________________________________________\n",
      "Layer (type)                 Output Shape              Param #   \n",
      "=================================================================\n",
      "input_2 (InputLayer)         [(None, 224, 224, 3)]     0         \n",
      "_________________________________________________________________\n",
      "vgg16 (Model)                (None, 7, 7, 512)         14714688  \n",
      "_________________________________________________________________\n",
      "global_average_pooling2d (Gl (None, 512)               0         \n",
      "_________________________________________________________________\n",
      "dense (Dense)                (None, 6)                 3078      \n",
      "=================================================================\n",
      "Total params: 14,717,766\n",
      "Trainable params: 3,078\n",
      "Non-trainable params: 14,714,688\n",
      "_________________________________________________________________\n"
     ]
    }
   ],
   "source": [
    "model.summary()"
   ]
  },
  {
   "cell_type": "markdown",
   "metadata": {},
   "source": [
    "## Compile Model"
   ]
  },
  {
   "cell_type": "markdown",
   "metadata": {},
   "source": [
    "Now it's time to compile the model with loss and metrics options. Remember that we're training on a number of different categories, rather than a binary classification problem."
   ]
  },
  {
   "cell_type": "code",
   "execution_count": 6,
   "metadata": {},
   "outputs": [],
   "source": [
    "model.compile(loss=keras.losses.CategoricalCrossentropy(from_logits=True), metrics=[keras.metrics.CategoricalAccuracy()])"
   ]
  },
  {
   "cell_type": "markdown",
   "metadata": {},
   "source": [
    "## Augment the Data"
   ]
  },
  {
   "cell_type": "markdown",
   "metadata": {},
   "source": [
    "If you'd like, try to augment the data to improve the dataset. Feel free to look at [notebook 04a](04a_asl_augmentation.ipynb) and [notebook 05b](05b_presidential_doggy_door.ipynb) for augmentation examples. There is also documentation for the [Keras ImageDataGenerator class](https://keras.io/api/preprocessing/image/#imagedatagenerator-class). This step is optional, but it may be helpful to get to 92% accuracy."
   ]
  },
  {
   "cell_type": "code",
   "execution_count": 7,
   "metadata": {},
   "outputs": [],
   "source": [
    "from tensorflow.keras.preprocessing.image import ImageDataGenerator\n",
    "\n",
    "datagen_train = ImageDataGenerator(\n",
    "    samplewise_center=True,\n",
    "    rotation_range=10,\n",
    "    zoom_range=0.1,\n",
    "    width_shift_range=0.1,\n",
    "    height_shift_range=0.1,\n",
    "    horizontal_flip=True,\n",
    "    vertical_flip=True,\n",
    ")\n",
    "\n",
    "datagen_valid = ImageDataGenerator(samplewise_center=True)"
   ]
  },
  {
   "cell_type": "markdown",
   "metadata": {},
   "source": [
    "## Load Dataset"
   ]
  },
  {
   "cell_type": "markdown",
   "metadata": {},
   "source": [
    "Now it's time to load the train and validation datasets. Pick the right folders, as well as the right `target_size` of the images (it needs to match the height and width input of the model you've created). For a reference, check out [notebook 05b](05b_presidential_doggy_door.ipynb)."
   ]
  },
  {
   "cell_type": "code",
   "execution_count": 9,
   "metadata": {},
   "outputs": [
    {
     "name": "stdout",
     "output_type": "stream",
     "text": [
      "Found 1182 images belonging to 6 classes.\n",
      "Found 329 images belonging to 6 classes.\n"
     ]
    }
   ],
   "source": [
    "# load and iterate training dataset\n",
    "train_it = datagen_train.flow_from_directory(\n",
    "    \"data/fruits/train/\",\n",
    "    target_size=(224, 224),\n",
    "    color_mode=\"rgb\",\n",
    "    class_mode=\"categorical\",\n",
    ")\n",
    "# load and iterate validation dataset\n",
    "valid_it = datagen_valid.flow_from_directory(\n",
    "    \"data/fruits/valid/\",\n",
    "    target_size=(224, 224),\n",
    "    color_mode=\"rgb\",\n",
    "    class_mode=\"categorical\",\n",
    ")"
   ]
  },
  {
   "cell_type": "markdown",
   "metadata": {},
   "source": [
    "## Train the Model"
   ]
  },
  {
   "cell_type": "markdown",
   "metadata": {},
   "source": [
    "Time to train the model! Pass the `train` and `valid` iterators into the `fit` function, as well as setting the desired number of epochs."
   ]
  },
  {
   "cell_type": "code",
   "execution_count": 10,
   "metadata": {},
   "outputs": [
    {
     "name": "stdout",
     "output_type": "stream",
     "text": [
      "Epoch 1/30\n",
      "37/36 [==============================] - 28s 744ms/step - loss: 1.6350 - categorical_accuracy: 0.4019 - val_loss: 1.5250 - val_categorical_accuracy: 0.5106\n",
      "Epoch 2/30\n",
      "37/36 [==============================] - 17s 453ms/step - loss: 1.4249 - categorical_accuracy: 0.6201 - val_loss: 1.4129 - val_categorical_accuracy: 0.6170\n",
      "Epoch 3/30\n",
      "37/36 [==============================] - 17s 447ms/step - loss: 1.3185 - categorical_accuracy: 0.7293 - val_loss: 1.2193 - val_categorical_accuracy: 0.8419\n",
      "Epoch 4/30\n",
      "37/36 [==============================] - 17s 455ms/step - loss: 1.2082 - categorical_accuracy: 0.8519 - val_loss: 1.1879 - val_categorical_accuracy: 0.8602\n",
      "Epoch 5/30\n",
      "37/36 [==============================] - 17s 450ms/step - loss: 1.1419 - categorical_accuracy: 0.9137 - val_loss: 1.1474 - val_categorical_accuracy: 0.8967\n",
      "Epoch 6/30\n",
      "37/36 [==============================] - 17s 452ms/step - loss: 1.1290 - categorical_accuracy: 0.9264 - val_loss: 1.1282 - val_categorical_accuracy: 0.9301\n",
      "Epoch 7/30\n",
      "37/36 [==============================] - 17s 458ms/step - loss: 1.1096 - categorical_accuracy: 0.9442 - val_loss: 1.1162 - val_categorical_accuracy: 0.9240\n",
      "Epoch 8/30\n",
      "37/36 [==============================] - 17s 451ms/step - loss: 1.0987 - categorical_accuracy: 0.9526 - val_loss: 1.1261 - val_categorical_accuracy: 0.9301\n",
      "Epoch 9/30\n",
      "37/36 [==============================] - 17s 450ms/step - loss: 1.0923 - categorical_accuracy: 0.9602 - val_loss: 1.1011 - val_categorical_accuracy: 0.9453\n",
      "Epoch 10/30\n",
      "37/36 [==============================] - 17s 449ms/step - loss: 1.0881 - categorical_accuracy: 0.9611 - val_loss: 1.0974 - val_categorical_accuracy: 0.9453\n",
      "Epoch 11/30\n",
      "37/36 [==============================] - 17s 456ms/step - loss: 1.0891 - categorical_accuracy: 0.9602 - val_loss: 1.1052 - val_categorical_accuracy: 0.9392\n",
      "Epoch 12/30\n",
      "37/36 [==============================] - 17s 452ms/step - loss: 1.0790 - categorical_accuracy: 0.9721 - val_loss: 1.0972 - val_categorical_accuracy: 0.9544\n",
      "Epoch 13/30\n",
      "37/36 [==============================] - 17s 447ms/step - loss: 1.0744 - categorical_accuracy: 0.9763 - val_loss: 1.0910 - val_categorical_accuracy: 0.9605\n",
      "Epoch 14/30\n",
      "37/36 [==============================] - 17s 451ms/step - loss: 1.0727 - categorical_accuracy: 0.9755 - val_loss: 1.1039 - val_categorical_accuracy: 0.9392\n",
      "Epoch 15/30\n",
      "37/36 [==============================] - 17s 453ms/step - loss: 1.0720 - categorical_accuracy: 0.9780 - val_loss: 1.0912 - val_categorical_accuracy: 0.9483\n",
      "Epoch 16/30\n",
      "37/36 [==============================] - 17s 452ms/step - loss: 1.0690 - categorical_accuracy: 0.9839 - val_loss: 1.0860 - val_categorical_accuracy: 0.9574\n",
      "Epoch 17/30\n",
      "37/36 [==============================] - 17s 450ms/step - loss: 1.0677 - categorical_accuracy: 0.9797 - val_loss: 1.0833 - val_categorical_accuracy: 0.9574\n",
      "Epoch 18/30\n",
      "37/36 [==============================] - 17s 454ms/step - loss: 1.0627 - categorical_accuracy: 0.9882 - val_loss: 1.0842 - val_categorical_accuracy: 0.9605\n",
      "Epoch 19/30\n",
      "37/36 [==============================] - 17s 454ms/step - loss: 1.0646 - categorical_accuracy: 0.9831 - val_loss: 1.0932 - val_categorical_accuracy: 0.9422\n",
      "Epoch 20/30\n",
      "37/36 [==============================] - 17s 449ms/step - loss: 1.0669 - categorical_accuracy: 0.9805 - val_loss: 1.0929 - val_categorical_accuracy: 0.9514\n",
      "Epoch 21/30\n",
      "37/36 [==============================] - 17s 448ms/step - loss: 1.0652 - categorical_accuracy: 0.9822 - val_loss: 1.0874 - val_categorical_accuracy: 0.9544\n",
      "Epoch 22/30\n",
      "37/36 [==============================] - 17s 446ms/step - loss: 1.0636 - categorical_accuracy: 0.9839 - val_loss: 1.0876 - val_categorical_accuracy: 0.9544\n",
      "Epoch 23/30\n",
      "37/36 [==============================] - 17s 449ms/step - loss: 1.0611 - categorical_accuracy: 0.9856 - val_loss: 1.0859 - val_categorical_accuracy: 0.9605\n",
      "Epoch 24/30\n",
      "37/36 [==============================] - 16s 445ms/step - loss: 1.0584 - categorical_accuracy: 0.9890 - val_loss: 1.0917 - val_categorical_accuracy: 0.9514\n",
      "Epoch 25/30\n",
      "37/36 [==============================] - 17s 450ms/step - loss: 1.0620 - categorical_accuracy: 0.9856 - val_loss: 1.0926 - val_categorical_accuracy: 0.9514\n",
      "Epoch 26/30\n",
      "37/36 [==============================] - 17s 447ms/step - loss: 1.0599 - categorical_accuracy: 0.9882 - val_loss: 1.0872 - val_categorical_accuracy: 0.9514\n",
      "Epoch 27/30\n",
      "37/36 [==============================] - 17s 447ms/step - loss: 1.0612 - categorical_accuracy: 0.9856 - val_loss: 1.0908 - val_categorical_accuracy: 0.9514\n",
      "Epoch 28/30\n",
      "37/36 [==============================] - 17s 448ms/step - loss: 1.0589 - categorical_accuracy: 0.9882 - val_loss: 1.0743 - val_categorical_accuracy: 0.9696\n",
      "Epoch 29/30\n",
      "37/36 [==============================] - 16s 445ms/step - loss: 1.0606 - categorical_accuracy: 0.9873 - val_loss: 1.0800 - val_categorical_accuracy: 0.9635\n",
      "Epoch 30/30\n",
      "37/36 [==============================] - 17s 447ms/step - loss: 1.0586 - categorical_accuracy: 0.9882 - val_loss: 1.0768 - val_categorical_accuracy: 0.9666\n"
     ]
    },
    {
     "data": {
      "text/plain": [
       "<tensorflow.python.keras.callbacks.History at 0x7ffa4de7e0b8>"
      ]
     },
     "execution_count": 10,
     "metadata": {},
     "output_type": "execute_result"
    }
   ],
   "source": [
    "model.fit(train_it,\n",
    "          validation_data=valid_it,\n",
    "          steps_per_epoch=train_it.samples/train_it.batch_size,\n",
    "          validation_steps=valid_it.samples/valid_it.batch_size,\n",
    "          epochs=30)"
   ]
  },
  {
   "cell_type": "markdown",
   "metadata": {},
   "source": [
    "## Unfreeze Model for Fine Tuning"
   ]
  },
  {
   "cell_type": "markdown",
   "metadata": {},
   "source": [
    "If you have reached 92% validation accuracy already, this next step is optional. If not, we suggest fine tuning the model with a very low learning rate."
   ]
  },
  {
   "cell_type": "code",
   "execution_count": 11,
   "metadata": {},
   "outputs": [],
   "source": [
    "# Unfreeze the base model\n",
    "base_model.trainable = True\n",
    "\n",
    "# Compile the model with a low learning rate\n",
    "model.compile(optimizer=keras.optimizers.RMSprop(learning_rate = .00001),\n",
    "              loss=keras.losses.CategoricalCrossentropy(from_logits=True),\n",
    "              metrics=[keras.metrics.CategoricalAccuracy()])"
   ]
  },
  {
   "cell_type": "code",
   "execution_count": 12,
   "metadata": {},
   "outputs": [
    {
     "name": "stdout",
     "output_type": "stream",
     "text": [
      "Epoch 1/20\n",
      "37/36 [==============================] - 31s 828ms/step - loss: 1.0835 - categorical_accuracy: 0.9611 - val_loss: 1.1028 - val_categorical_accuracy: 0.9453\n",
      "Epoch 2/20\n",
      "37/36 [==============================] - 18s 490ms/step - loss: 1.0674 - categorical_accuracy: 0.9797 - val_loss: 1.0794 - val_categorical_accuracy: 0.9605\n",
      "Epoch 3/20\n",
      "37/36 [==============================] - 18s 482ms/step - loss: 1.0614 - categorical_accuracy: 0.9831 - val_loss: 1.0709 - val_categorical_accuracy: 0.9726\n",
      "Epoch 4/20\n",
      "37/36 [==============================] - 18s 492ms/step - loss: 1.0610 - categorical_accuracy: 0.9848 - val_loss: 1.0707 - val_categorical_accuracy: 0.9696\n",
      "Epoch 5/20\n",
      "37/36 [==============================] - 18s 480ms/step - loss: 1.0538 - categorical_accuracy: 0.9898 - val_loss: 1.0730 - val_categorical_accuracy: 0.9726\n",
      "Epoch 6/20\n",
      "37/36 [==============================] - 18s 477ms/step - loss: 1.0558 - categorical_accuracy: 0.9873 - val_loss: 1.0619 - val_categorical_accuracy: 0.9818\n",
      "Epoch 7/20\n",
      "37/36 [==============================] - 18s 475ms/step - loss: 1.0551 - categorical_accuracy: 0.9873 - val_loss: 1.0752 - val_categorical_accuracy: 0.9666\n",
      "Epoch 8/20\n",
      "37/36 [==============================] - 17s 468ms/step - loss: 1.0509 - categorical_accuracy: 0.9932 - val_loss: 1.0703 - val_categorical_accuracy: 0.9726\n",
      "Epoch 9/20\n",
      "37/36 [==============================] - 18s 480ms/step - loss: 1.0515 - categorical_accuracy: 0.9932 - val_loss: 1.0847 - val_categorical_accuracy: 0.9635\n",
      "Epoch 10/20\n",
      "37/36 [==============================] - 18s 473ms/step - loss: 1.0488 - categorical_accuracy: 0.9949 - val_loss: 1.0827 - val_categorical_accuracy: 0.9574\n",
      "Epoch 11/20\n",
      "37/36 [==============================] - 17s 473ms/step - loss: 1.0518 - categorical_accuracy: 0.9924 - val_loss: 1.0976 - val_categorical_accuracy: 0.9422\n",
      "Epoch 12/20\n",
      "37/36 [==============================] - 18s 479ms/step - loss: 1.0517 - categorical_accuracy: 0.9932 - val_loss: 1.0652 - val_categorical_accuracy: 0.9757\n",
      "Epoch 13/20\n",
      "37/36 [==============================] - 17s 467ms/step - loss: 1.0510 - categorical_accuracy: 0.9924 - val_loss: 1.0787 - val_categorical_accuracy: 0.9666\n",
      "Epoch 14/20\n",
      "37/36 [==============================] - 18s 474ms/step - loss: 1.0501 - categorical_accuracy: 0.9949 - val_loss: 1.0568 - val_categorical_accuracy: 0.9878\n",
      "Epoch 15/20\n",
      "37/36 [==============================] - 18s 485ms/step - loss: 1.0475 - categorical_accuracy: 0.9966 - val_loss: 1.0626 - val_categorical_accuracy: 0.9818\n",
      "Epoch 16/20\n",
      "37/36 [==============================] - 18s 486ms/step - loss: 1.0513 - categorical_accuracy: 0.9932 - val_loss: 1.0538 - val_categorical_accuracy: 0.9909\n",
      "Epoch 17/20\n",
      "37/36 [==============================] - 18s 481ms/step - loss: 1.0520 - categorical_accuracy: 0.9915 - val_loss: 1.0810 - val_categorical_accuracy: 0.9605\n",
      "Epoch 18/20\n",
      "37/36 [==============================] - 18s 479ms/step - loss: 1.0476 - categorical_accuracy: 0.9966 - val_loss: 1.0540 - val_categorical_accuracy: 0.9878\n",
      "Epoch 19/20\n",
      "37/36 [==============================] - 19s 511ms/step - loss: 1.0466 - categorical_accuracy: 0.9966 - val_loss: 1.0530 - val_categorical_accuracy: 0.9909\n",
      "Epoch 20/20\n",
      "37/36 [==============================] - 18s 488ms/step - loss: 1.0484 - categorical_accuracy: 0.9949 - val_loss: 1.0682 - val_categorical_accuracy: 0.9726\n"
     ]
    },
    {
     "data": {
      "text/plain": [
       "<tensorflow.python.keras.callbacks.History at 0x7ffa38a89a90>"
      ]
     },
     "execution_count": 12,
     "metadata": {},
     "output_type": "execute_result"
    }
   ],
   "source": [
    "model.fit(train_it,\n",
    "          validation_data=valid_it,\n",
    "          steps_per_epoch=train_it.samples/train_it.batch_size,\n",
    "          validation_steps=valid_it.samples/valid_it.batch_size,\n",
    "          epochs=20)"
   ]
  },
  {
   "cell_type": "markdown",
   "metadata": {},
   "source": [
    "## Evaluate the Model"
   ]
  },
  {
   "cell_type": "markdown",
   "metadata": {},
   "source": [
    "Hopefully, you now have a model that has a validation accuracy of 92% or higher. If not, you may want to go back and either run more epochs of training, or adjust your data augmentation. \n",
    "\n",
    "Once you are satisfied with the validation accuracy, evaluate the model by executing the following cell. The evaluate function will return a tuple, where the first value is your loss, and the second value is your accuracy. To pass, the model will need have an accuracy value of `92% or higher`. "
   ]
  },
  {
   "cell_type": "code",
   "execution_count": 13,
   "metadata": {},
   "outputs": [
    {
     "name": "stdout",
     "output_type": "stream",
     "text": [
      "11/10 [================================] - 1s 133ms/step - loss: 1.0712 - categorical_accuracy: 0.9696\n"
     ]
    },
    {
     "data": {
      "text/plain": [
       "[1.0712496042251587, 0.9696048498153687]"
      ]
     },
     "execution_count": 13,
     "metadata": {},
     "output_type": "execute_result"
    }
   ],
   "source": [
    "model.evaluate(valid_it, steps=valid_it.samples/valid_it.batch_size)"
   ]
  },
  {
   "cell_type": "markdown",
   "metadata": {},
   "source": [
    "## Run the Assessment"
   ]
  },
  {
   "cell_type": "markdown",
   "metadata": {},
   "source": [
    "To assess your model run the following two cells.\n",
    "\n",
    "**NOTE:** `run_assessment` assumes your model is named `model` and your validation data iterator is called `valid_it`. If for any reason you have modified these variable names, please update the names of the arguments passed to `run_assessment`."
   ]
  },
  {
   "cell_type": "code",
   "execution_count": 14,
   "metadata": {},
   "outputs": [],
   "source": [
    "from run_assessment import run_assessment"
   ]
  },
  {
   "cell_type": "code",
   "execution_count": 15,
   "metadata": {},
   "outputs": [
    {
     "name": "stdout",
     "output_type": "stream",
     "text": [
      "Evaluating model 5 times to obtain average accuracy...\n",
      "\n",
      "11/10 [================================] - 1s 132ms/step - loss: 1.0787 - categorical_accuracy: 0.9635\n",
      "11/10 [================================] - 1s 128ms/step - loss: 1.0658 - categorical_accuracy: 0.9757\n",
      "11/10 [================================] - 1s 131ms/step - loss: 1.0770 - categorical_accuracy: 0.9635\n",
      "11/10 [================================] - 2s 139ms/step - loss: 1.0689 - categorical_accuracy: 0.9726\n",
      "11/10 [================================] - 1s 126ms/step - loss: 1.0719 - categorical_accuracy: 0.9696\n",
      "\n",
      "Accuracy required to pass the assessment is 0.92 or greater.\n",
      "Your average accuracy is 0.9690.\n",
      "\n",
      "Congratulations! You passed the assessment!\n",
      "See instructions below to generate a certificate.\n"
     ]
    }
   ],
   "source": [
    "run_assessment(model, valid_it)"
   ]
  },
  {
   "cell_type": "markdown",
   "metadata": {},
   "source": [
    "## Generate a Certificate"
   ]
  },
  {
   "cell_type": "markdown",
   "metadata": {},
   "source": [
    "If you passed the assessment, please return to the course page (shown below) and click the \"ASSESS TASK\" button, which will generate your certificate for the course."
   ]
  },
  {
   "cell_type": "markdown",
   "metadata": {},
   "source": [
    "<img src=\"./images/assess_task.png\" style=\"width: 800px;\">"
   ]
  },
  {
   "cell_type": "markdown",
   "metadata": {},
   "source": [
    "<center><a href=\"https://www.nvidia.com/dli\"> <img src=\"images/DLI_Header.png\" alt=\"Header\" style=\"width: 400px;\"/> </a></center>"
   ]
  }
 ],
 "metadata": {
  "kernelspec": {
   "display_name": "Python 3",
   "language": "python",
   "name": "python3"
  },
  "language_info": {
   "codemirror_mode": {
    "name": "ipython",
    "version": 3
   },
   "file_extension": ".py",
   "mimetype": "text/x-python",
   "name": "python",
   "nbconvert_exporter": "python",
   "pygments_lexer": "ipython3",
   "version": "3.6.9"
  }
 },
 "nbformat": 4,
 "nbformat_minor": 4
}
